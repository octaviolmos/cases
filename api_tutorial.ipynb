{
 "cells": [
  {
   "cell_type": "markdown",
   "metadata": {},
   "source": [
    "## Create API Connection with Python 3"
   ]
  },
  {
   "cell_type": "code",
   "execution_count": 5,
   "metadata": {},
   "outputs": [],
   "source": [
    "import requests\n",
    "#make a get request\n",
    "response = requests.get(\"http://api.open-notify.org/iss-now.json\")\n"
   ]
  },
  {
   "cell_type": "markdown",
   "metadata": {},
   "source": [
    "### Status Codes\n",
    "- __200__ - Everything went okay, and the server returned a result (if any).\n",
    "- __301__ - The server is redirecting you to a different endpoint. This can happen when a company switches domain names, or an endpoint's name has changed.\n",
    "- __401__ - The server thinks you're not authenticated. This happens when you don't send - the right credentials to access an API (we'll talk about this in a later mission).\n",
    "- __400__ - The server thinks you made a bad request. This can happen when you don't send the information the API requires to process your request, among other things.\n",
    "- __403__ - The resource you're trying to access is forbidden; you don't have the right permissions to see it.\n",
    "- __404__ - The server didn't find the resource you tried to access.\n",
    "\n",
    "link: http://open-notify.org/Open-Notify-API/\n"
   ]
  },
  {
   "cell_type": "code",
   "execution_count": 6,
   "metadata": {},
   "outputs": [
    {
     "data": {
      "text/plain": [
       "200"
      ]
     },
     "execution_count": 6,
     "metadata": {},
     "output_type": "execute_result"
    }
   ],
   "source": [
    "status_code = response.status_code\n",
    "status_code\n"
   ]
  },
  {
   "cell_type": "markdown",
   "metadata": {},
   "source": [
    "The ISS Pass endpoint returns the next time the ISS will pass over a given location on the Earth. Let's get the data for New York"
   ]
  },
  {
   "cell_type": "code",
   "execution_count": 9,
   "metadata": {},
   "outputs": [
    {
     "data": {
      "text/plain": [
       "b'{\\n  \"message\": \"success\", \\n  \"request\": {\\n    \"altitude\": 100, \\n    \"datetime\": 1528772696, \\n    \"latitude\": 40.71, \\n    \"longitude\": -74.0, \\n    \"passes\": 5\\n  }, \\n  \"response\": [\\n    {\\n      \"duration\": 475, \\n      \"risetime\": 1528816847\\n    }, \\n    {\\n      \"duration\": 642, \\n      \"risetime\": 1528822519\\n    }, \\n    {\\n      \"duration\": 596, \\n      \"risetime\": 1528828349\\n    }, \\n    {\\n      \"duration\": 545, \\n      \"risetime\": 1528834221\\n    }, \\n    {\\n      \"duration\": 597, \\n      \"risetime\": 1528840040\\n    }\\n  ]\\n}\\n'"
      ]
     },
     "execution_count": 9,
     "metadata": {},
     "output_type": "execute_result"
    }
   ],
   "source": [
    "# setup a dictionary to store parameters for New York City\n",
    "parameters = {'lat':40.71, 'lon':-74}\n",
    "\n",
    "# make a get request and include parameters\n",
    "response = requests.get(\"http://api.open-notify.org/iss-pass.json\",params=parameters)\n",
    "\n",
    "\n",
    "#print response\n",
    "response.content"
   ]
  },
  {
   "cell_type": "markdown",
   "metadata": {},
   "source": [
    "Use the Json library to read Json content\n",
    "- dumps -- takes Python object and converts it to string\n",
    "- loads -- takes a json string and converts it to a Python object\n"
   ]
  },
  {
   "cell_type": "code",
   "execution_count": 11,
   "metadata": {},
   "outputs": [
    {
     "data": {
      "text/plain": [
       "['moon', 'planets', 'star']"
      ]
     },
     "execution_count": 11,
     "metadata": {},
     "output_type": "execute_result"
    }
   ],
   "source": [
    "import json\n",
    "solar_system = ['moon','planets','star']\n",
    "converted_json = json.dumps(solar_system)\n",
    "converted_json\n",
    "\n",
    "loadsexample = json.loads(converted_json)\n",
    "loadsexample"
   ]
  },
  {
   "cell_type": "code",
   "execution_count": 12,
   "metadata": {},
   "outputs": [
    {
     "data": {
      "text/plain": [
       "'[\"moon\", \"planets\", \"star\"]'"
      ]
     },
     "execution_count": 12,
     "metadata": {},
     "output_type": "execute_result"
    }
   ],
   "source": [
    "converted_json"
   ]
  },
  {
   "cell_type": "code",
   "execution_count": 13,
   "metadata": {},
   "outputs": [
    {
     "data": {
      "text/plain": [
       "{'message': 'success',\n",
       " 'request': {'altitude': 100,\n",
       "  'datetime': 1528772696,\n",
       "  'latitude': 40.71,\n",
       "  'longitude': -74.0,\n",
       "  'passes': 5},\n",
       " 'response': [{'duration': 475, 'risetime': 1528816847},\n",
       "  {'duration': 642, 'risetime': 1528822519},\n",
       "  {'duration': 596, 'risetime': 1528828349},\n",
       "  {'duration': 545, 'risetime': 1528834221},\n",
       "  {'duration': 597, 'risetime': 1528840040}]}"
      ]
     },
     "execution_count": 13,
     "metadata": {},
     "output_type": "execute_result"
    }
   ],
   "source": [
    "# convert response content into json format\n",
    "json_format = response.json()\n",
    "json_format"
   ]
  },
  {
   "cell_type": "code",
   "execution_count": 15,
   "metadata": {},
   "outputs": [
    {
     "data": {
      "text/plain": [
       "5"
      ]
     },
     "execution_count": 15,
     "metadata": {},
     "output_type": "execute_result"
    }
   ],
   "source": [
    "# grab the number of passes\n",
    "passes = json_format['request']['passes']\n",
    "\n",
    "passes"
   ]
  },
  {
   "cell_type": "code",
   "execution_count": 21,
   "metadata": {},
   "outputs": [
    {
     "name": "stdout",
     "output_type": "stream",
     "text": [
      "Server : nginx/1.10.3\n",
      "Date : Tue, 12 Jun 2018 03:10:22 GMT\n",
      "Content-Type : application/json\n",
      "Content-Length : 519\n",
      "Connection : keep-alive\n",
      "Via : 1.1 vegur\n"
     ]
    }
   ],
   "source": [
    "# to get metadata use the \".headers\" property\n",
    "for i, x in response.headers.items():\n",
    "    print(\"{} : {}\".format(i,x))"
   ]
  },
  {
   "cell_type": "code",
   "execution_count": 23,
   "metadata": {},
   "outputs": [
    {
     "data": {
      "text/plain": [
       "{'lat': 40.71, 'lon': -74}"
      ]
     },
     "execution_count": 23,
     "metadata": {},
     "output_type": "execute_result"
    }
   ],
   "source": [
    "# expore the OpenNotify astros.json\n",
    "parameters"
   ]
  },
  {
   "cell_type": "code",
   "execution_count": 24,
   "metadata": {},
   "outputs": [
    {
     "data": {
      "text/plain": [
       "{'message': 'success',\n",
       " 'number': 6,\n",
       " 'people': [{'craft': 'ISS', 'name': 'Oleg Artemyev'},\n",
       "  {'craft': 'ISS', 'name': 'Andrew Feustel'},\n",
       "  {'craft': 'ISS', 'name': 'Richard Arnold'},\n",
       "  {'craft': 'ISS', 'name': 'Sergey Prokopyev'},\n",
       "  {'craft': 'ISS', 'name': 'Alexander Gerst'},\n",
       "  {'craft': 'ISS', 'name': 'Serena Aunon-Chancellor'}]}"
      ]
     },
     "execution_count": 24,
     "metadata": {},
     "output_type": "execute_result"
    }
   ],
   "source": [
    "response = requests.get('http://api.open-notify.org/astros.json')\n",
    "json_data = response.json()\n",
    "json_data"
   ]
  },
  {
   "cell_type": "code",
   "execution_count": 26,
   "metadata": {},
   "outputs": [
    {
     "data": {
      "text/plain": [
       "6"
      ]
     },
     "execution_count": 26,
     "metadata": {},
     "output_type": "execute_result"
    }
   ],
   "source": [
    "# grab number of astrounats in spance\n",
    "json_data['number']"
   ]
  },
  {
   "cell_type": "code",
   "execution_count": null,
   "metadata": {},
   "outputs": [],
   "source": []
  }
 ],
 "metadata": {
  "kernelspec": {
   "display_name": "Python 3",
   "language": "python",
   "name": "python3"
  },
  "language_info": {
   "codemirror_mode": {
    "name": "ipython",
    "version": 3
   },
   "file_extension": ".py",
   "mimetype": "text/x-python",
   "name": "python",
   "nbconvert_exporter": "python",
   "pygments_lexer": "ipython3",
   "version": "3.6.3"
  }
 },
 "nbformat": 4,
 "nbformat_minor": 2
}
