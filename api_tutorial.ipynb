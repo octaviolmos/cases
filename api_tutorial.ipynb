{
 "cells": [
  {
   "cell_type": "markdown",
   "metadata": {},
   "source": [
    "## Create API Connection with Python 3"
   ]
  },
  {
   "cell_type": "code",
   "execution_count": 1,
   "metadata": {},
   "outputs": [],
   "source": [
    "import requests\n",
    "response = requests.get(\"http://api.open-notify.org/iss-now.json\")\n"
   ]
  },
  {
   "cell_type": "markdown",
   "metadata": {},
   "source": [
    "### Status Codes\n",
    "- __200__ - Everything went okay, and the server returned a result (if any).\n",
    "- __301__ - The server is redirecting you to a different endpoint. This can happen when a company switches domain names, or an endpoint's name has changed.\n",
    "- __401__ - The server thinks you're not authenticated. This happens when you don't send - the right credentials to access an API (we'll talk about this in a later mission).\n",
    "- __400__ - The server thinks you made a bad request. This can happen when you don't send the information the API requires to process your request, among other things.\n",
    "- __403__ - The resource you're trying to access is forbidden; you don't have the right permissions to see it.\n",
    "- __404__ - The server didn't find the resource you tried to access.\n"
   ]
  },
  {
   "cell_type": "code",
   "execution_count": 2,
   "metadata": {},
   "outputs": [
    {
     "data": {
      "text/plain": [
       "200"
      ]
     },
     "execution_count": 2,
     "metadata": {},
     "output_type": "execute_result"
    }
   ],
   "source": [
    "status_code = response.status_code\n",
    "status_code\n"
   ]
  },
  {
   "cell_type": "code",
   "execution_count": null,
   "metadata": {},
   "outputs": [],
   "source": []
  }
 ],
 "metadata": {
  "kernelspec": {
   "display_name": "Python 3",
   "language": "python",
   "name": "python3"
  },
  "language_info": {
   "codemirror_mode": {
    "name": "ipython",
    "version": 3
   },
   "file_extension": ".py",
   "mimetype": "text/x-python",
   "name": "python",
   "nbconvert_exporter": "python",
   "pygments_lexer": "ipython3",
   "version": "3.6.3"
  }
 },
 "nbformat": 4,
 "nbformat_minor": 2
}
